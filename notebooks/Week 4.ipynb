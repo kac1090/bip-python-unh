{
 "cells": [
  {
   "cell_type": "markdown",
   "metadata": {},
   "source": [
    "# Week 3 - Python data types, arrays, touples, lists, and dictionaries with logical operation and introduction to loops\n",
    "\n",
    "Below are links to articles regarding key topics for these exercises. You are encouraged to add extra cells where needed to test ideas and experiment to help understand these concepts, feel free to add and please save and upload your testing/experimenting when done.\n",
    "\n",
    "### Python Data Types:\n",
    "Documentation for the Python programming language (fairly dry, but specific to how these data types are implemented). This also includes links to the documentation for dictionaries, lists, and touples.\n",
    "https://docs.python.org/3/library/datatypes.html\n",
    "\n",
    "Geeks for Geeks is good to get a better practical view of these concepts:\n",
    "https://www.geeksforgeeks.org/python-data-types/\n",
    "\n",
    "Real Python helped me a lot to get started, here are the definitions of these same concepts written in their more intro, user friendly style.\n",
    "https://realpython.com/python-data-types/\n",
    "\n",
    "### Python Operators:\n",
    "W3 Schools has a great set of 'cheat sheets' to review and refresh on many different languages and topics. Here is their sheet on operatiors in Python. This includes logical operations we will use in If statements to help make the computer make decisions:\n",
    "https://www.w3schools.com/python/python_operators.asp\n",
    "\n",
    "Geeks for Geeks with another easy to follow approach to Logical Operators specifically:\n",
    "https://www.geeksforgeeks.org/python-logical-operators-with-examples-improvement-needed/\n",
    "\n",
    "### Python Loops:\n",
    "Geeks for Geeks shows both While loops and For loops, and gives some idea on when you want to use which:\n",
    "https://www.geeksforgeeks.org/loops-in-python/\n",
    "\n",
    "Real Pythons article on For Loops (Used more frequently):\n",
    "https://realpython.com/python-for-loop/\n",
    "\n",
    "### Python Variables:\n",
    "W3Schools has a good intro on what variables are and how they are used in Python:\n",
    "https://www.w3schools.com/python/python_variables.asp\n",
    "\n",
    "Real Python has a similar article to help explain variables for those not familar with the concepts:\n",
    "https://realpython.com/python-variables/"
   ]
  },
  {
   "cell_type": "markdown",
   "metadata": {},
   "source": [
    "# Exercises\n",
    "Below are some starting variables and basic steps to setup the questions and exercises below. Feel free to add cells, or add to each cell provided to solve the exercises:\n",
    "\n",
    "## Exercise 1 - List transformations\n",
    "* Add 'horse' and 'barn' to the singular_words list\n",
    "* Create a plural_words list containing the plural word for each item in the singular_words list. Use a loop so you do not have to do this manually"
   ]
  },
  {
   "cell_type": "code",
   "execution_count": 1,
   "metadata": {
    "ExecuteTime": {
     "end_time": "2020-08-18T17:22:52.798149Z",
     "start_time": "2020-08-18T17:22:52.792164Z"
    }
   },
   "outputs": [],
   "source": [
    "singular_words = ['dog', 'cat', 'house', 'toy','horse','barn']\n"
   ]
  },
  {
   "cell_type": "code",
   "execution_count": 2,
   "metadata": {},
   "outputs": [
    {
     "data": {
      "text/plain": [
       "['one', 'two']"
      ]
     },
     "execution_count": 2,
     "metadata": {},
     "output_type": "execute_result"
    }
   ],
   "source": [
    "sw = ['one', \"two\"]\n",
    "zw = ['hello', 'world']\n",
    "sw "
   ]
  },
  {
   "cell_type": "code",
   "execution_count": 3,
   "metadata": {},
   "outputs": [
    {
     "name": "stdout",
     "output_type": "stream",
     "text": [
      "one\n",
      "two\n",
      "hello\n",
      "world\n"
     ]
    }
   ],
   "source": [
    "for each_word in sw: \n",
    "    print(each_word)\n",
    "    \n",
    "for new_word in zw:\n",
    "            print(new_word)"
   ]
  },
  {
   "cell_type": "code",
   "execution_count": 4,
   "metadata": {},
   "outputs": [
    {
     "data": {
      "text/plain": [
       "['one', 'two', 'hello', 'world']"
      ]
     },
     "execution_count": 4,
     "metadata": {},
     "output_type": "execute_result"
    }
   ],
   "source": [
    "new_list = sw + zw\n",
    "new_list"
   ]
  },
  {
   "cell_type": "code",
   "execution_count": 5,
   "metadata": {},
   "outputs": [
    {
     "data": {
      "text/plain": [
       "['one', 'two', 'hello', 'world', 'horse', 'barn']"
      ]
     },
     "execution_count": 5,
     "metadata": {},
     "output_type": "execute_result"
    }
   ],
   "source": [
    "new_list += ['horse']\n",
    "new_list += ['barn']\n",
    "new_list"
   ]
  },
  {
   "cell_type": "code",
   "execution_count": 6,
   "metadata": {},
   "outputs": [
    {
     "data": {
      "text/plain": [
       "['ones', 'twos', 'hellos', 'worlds', 'horses', 'barns']"
      ]
     },
     "execution_count": 6,
     "metadata": {},
     "output_type": "execute_result"
    }
   ],
   "source": [
    "plural_words = []\n",
    "for each_word in new_list:\n",
    "    plural_words.append(each_word + 's')\n",
    "    \n",
    "plural_words"
   ]
  },
  {
   "cell_type": "markdown",
   "metadata": {},
   "source": [
    "## Exercise 2 - Categorizing lists with Dictionaries\n",
    "* Use the plural_words list created above and the word_category dictionary provided below to create a loop that categorizes each word in the list.\n",
    "* The loop should print the word and what the category is in a complete sentence, ordered by how the words appear in the plural_words list."
   ]
  },
  {
   "cell_type": "code",
   "execution_count": 7,
   "metadata": {
    "ExecuteTime": {
     "end_time": "2020-08-18T18:49:06.051285Z",
     "start_time": "2020-08-18T18:49:06.043306Z"
    },
    "scrolled": true
   },
   "outputs": [
    {
     "name": "stdout",
     "output_type": "stream",
     "text": [
      "houses\n",
      "toys\n",
      "barns\n",
      "dogs\n",
      "cats\n",
      "horses\n"
     ]
    }
   ],
   "source": [
    "word_category = {\n",
    "    'houses':'objects',\n",
    "    'toys':'objects',\n",
    "    'barns':'objects',\n",
    "    'dogs':'creatures',\n",
    "    'cats':'creatures',\n",
    "    'horses':'creatures'\n",
    "}\n",
    "\n",
    "for s in word_category:\n",
    "    print(s)"
   ]
  },
  {
   "cell_type": "code",
   "execution_count": 8,
   "metadata": {},
   "outputs": [
    {
     "name": "stdout",
     "output_type": "stream",
     "text": [
      "houses objects\n",
      "toys objects\n",
      "barns objects\n",
      "dogs creatures\n",
      "cats creatures\n",
      "horses creatures\n"
     ]
    }
   ],
   "source": [
    "for s in word_category:\n",
    "    print(s, word_category[s])"
   ]
  },
  {
   "cell_type": "markdown",
   "metadata": {},
   "source": [
    "## Exercise 3 - Data Conversion\n",
    "Sometimes data comes in unexpected ways. Converting data and using it after is often required to complete analysis in the real world.\n",
    "* convert values in the list to numbers\n",
    "* provide the average (mean) of the numbers\n",
    "* provide the sum (total) of the numbers\n",
    "* provide the count of numbers in the list (Do not enter the value, calculate it)\n",
    "* remove the largest and smallest number from the list\n",
    "* provide the average (mean) of the numbers\n",
    "* provide the sum (total) of the numbers\n",
    "* provide the count of numbers in the list (Do not enter the value, calculate it)"
   ]
  },
  {
   "cell_type": "code",
   "execution_count": 9,
   "metadata": {},
   "outputs": [],
   "source": [
    "numbers = ['10234', '500', '125', '50213', '1440', '64920', '225', '425', '1']\n"
   ]
  },
  {
   "cell_type": "code",
   "execution_count": 10,
   "metadata": {},
   "outputs": [
    {
     "name": "stdout",
     "output_type": "stream",
     "text": [
      "[10234, 500, 125, 50213, 1440, 64920, 225, 425, 1]\n"
     ]
    }
   ],
   "source": [
    "numbers = [int(i) for i in numbers] \n",
    "print(numbers)"
   ]
  },
  {
   "cell_type": "code",
   "execution_count": 11,
   "metadata": {},
   "outputs": [
    {
     "data": {
      "text/plain": [
       "14231.444444444445"
      ]
     },
     "execution_count": 11,
     "metadata": {},
     "output_type": "execute_result"
    }
   ],
   "source": [
    "    import statistics\n",
    "\n",
    "    statistics.mean([10234, 500, 125, 50213, 1440, 64920, 225, 425, 1])\n"
   ]
  },
  {
   "cell_type": "code",
   "execution_count": 12,
   "metadata": {},
   "outputs": [
    {
     "name": "stdout",
     "output_type": "stream",
     "text": [
      "128083\n"
     ]
    }
   ],
   "source": [
    "numbers = (10234, 500, 125, 50213, 1440, 64920, 225, 425, 1)\n",
    "print(sum(numbers))"
   ]
  },
  {
   "cell_type": "code",
   "execution_count": 13,
   "metadata": {},
   "outputs": [
    {
     "ename": "TypeError",
     "evalue": "count() takes exactly one argument (9 given)",
     "output_type": "error",
     "traceback": [
      "\u001b[0;31m---------------------------------------------------------------------------\u001b[0m",
      "\u001b[0;31mTypeError\u001b[0m                                 Traceback (most recent call last)",
      "\u001b[0;32m<ipython-input-13-b4d9e5b1815a>\u001b[0m in \u001b[0;36m<module>\u001b[0;34m\u001b[0m\n\u001b[1;32m      1\u001b[0m \u001b[0mnumbers\u001b[0m \u001b[0;34m=\u001b[0m \u001b[0;34m[\u001b[0m\u001b[0;36m10234\u001b[0m\u001b[0;34m,\u001b[0m \u001b[0;36m500\u001b[0m\u001b[0;34m,\u001b[0m \u001b[0;36m125\u001b[0m\u001b[0;34m,\u001b[0m \u001b[0;36m50213\u001b[0m\u001b[0;34m,\u001b[0m \u001b[0;36m1440\u001b[0m\u001b[0;34m,\u001b[0m \u001b[0;36m64920\u001b[0m\u001b[0;34m,\u001b[0m \u001b[0;36m225\u001b[0m\u001b[0;34m,\u001b[0m \u001b[0;36m425\u001b[0m\u001b[0;34m,\u001b[0m \u001b[0;36m1\u001b[0m\u001b[0;34m]\u001b[0m\u001b[0;34m\u001b[0m\u001b[0;34m\u001b[0m\u001b[0m\n\u001b[0;32m----> 2\u001b[0;31m \u001b[0mcount\u001b[0m \u001b[0;34m=\u001b[0m \u001b[0mnumbers\u001b[0m\u001b[0;34m.\u001b[0m\u001b[0mcount\u001b[0m\u001b[0;34m(\u001b[0m\u001b[0;36m10234\u001b[0m\u001b[0;34m,\u001b[0m \u001b[0;36m500\u001b[0m\u001b[0;34m,\u001b[0m \u001b[0;36m125\u001b[0m\u001b[0;34m,\u001b[0m \u001b[0;36m50213\u001b[0m\u001b[0;34m,\u001b[0m \u001b[0;36m1440\u001b[0m\u001b[0;34m,\u001b[0m \u001b[0;36m64920\u001b[0m\u001b[0;34m,\u001b[0m \u001b[0;36m225\u001b[0m\u001b[0;34m,\u001b[0m \u001b[0;36m425\u001b[0m\u001b[0;34m,\u001b[0m \u001b[0;36m1\u001b[0m\u001b[0;34m)\u001b[0m\u001b[0;34m\u001b[0m\u001b[0;34m\u001b[0m\u001b[0m\n\u001b[0m\u001b[1;32m      3\u001b[0m \u001b[0mprint\u001b[0m\u001b[0;34m(\u001b[0m\u001b[0mcount\u001b[0m\u001b[0;34m)\u001b[0m\u001b[0;34m\u001b[0m\u001b[0;34m\u001b[0m\u001b[0m\n",
      "\u001b[0;31mTypeError\u001b[0m: count() takes exactly one argument (9 given)"
     ]
    }
   ],
   "source": [
    "numbers = [10234, 500, 125, 50213, 1440, 64920, 225, 425, 1]\n",
    "count = numbers.count(10234, 500, 125, 50213, 1440, 64920, 225, 425, 1)\n",
    "print(count)"
   ]
  },
  {
   "cell_type": "code",
   "execution_count": null,
   "metadata": {},
   "outputs": [],
   "source": []
  }
 ],
 "metadata": {
  "kernelspec": {
   "display_name": "Python 3",
   "language": "python",
   "name": "python3"
  },
  "language_info": {
   "codemirror_mode": {
    "name": "ipython",
    "version": 3
   },
   "file_extension": ".py",
   "mimetype": "text/x-python",
   "name": "python",
   "nbconvert_exporter": "python",
   "pygments_lexer": "ipython3",
   "version": "3.8.5"
  },
  "toc": {
   "base_numbering": 1,
   "nav_menu": {},
   "number_sections": true,
   "sideBar": true,
   "skip_h1_title": false,
   "title_cell": "Table of Contents",
   "title_sidebar": "Contents",
   "toc_cell": false,
   "toc_position": {},
   "toc_section_display": true,
   "toc_window_display": false
  },
  "varInspector": {
   "cols": {
    "lenName": 16,
    "lenType": 16,
    "lenVar": 40
   },
   "kernels_config": {
    "python": {
     "delete_cmd_postfix": "",
     "delete_cmd_prefix": "del ",
     "library": "var_list.py",
     "varRefreshCmd": "print(var_dic_list())"
    },
    "r": {
     "delete_cmd_postfix": ") ",
     "delete_cmd_prefix": "rm(",
     "library": "var_list.r",
     "varRefreshCmd": "cat(var_dic_list()) "
    }
   },
   "types_to_exclude": [
    "module",
    "function",
    "builtin_function_or_method",
    "instance",
    "_Feature"
   ],
   "window_display": false
  }
 },
 "nbformat": 4,
 "nbformat_minor": 4
}
